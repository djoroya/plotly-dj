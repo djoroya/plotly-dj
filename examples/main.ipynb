{
 "cells": [
  {
   "cell_type": "code",
   "execution_count": null,
   "metadata": {},
   "outputs": [],
   "source": [
    "from plotly_dj.surface import anisurf"
   ]
  },
  {
   "cell_type": "code",
   "execution_count": 2,
   "metadata": {},
   "outputs": [
    {
     "ename": "ModuleNotFoundError",
     "evalue": "No module named 'plotly_dj'",
     "output_type": "error",
     "traceback": [
      "\u001b[0;31m---------------------------------------------------------------------------\u001b[0m",
      "\u001b[0;31mModuleNotFoundError\u001b[0m                       Traceback (most recent call last)",
      "Cell \u001b[0;32mIn[2], line 1\u001b[0m\n\u001b[0;32m----> 1\u001b[0m \u001b[39mfrom\u001b[39;00m \u001b[39mplotly_dj\u001b[39;00m\u001b[39m.\u001b[39;00m\u001b[39msurface\u001b[39;00m \u001b[39mimport\u001b[39;00m anisurf\n\u001b[1;32m      2\u001b[0m \u001b[39mimport\u001b[39;00m \u001b[39mnumpy\u001b[39;00m \u001b[39mas\u001b[39;00m \u001b[39mnp\u001b[39;00m\n",
      "\u001b[0;31mModuleNotFoundError\u001b[0m: No module named 'plotly_dj'"
     ]
    }
   ],
   "source": [
    "from plot\n",
    "import numpy as np"
   ]
  },
  {
   "cell_type": "code",
   "execution_count": null,
   "metadata": {},
   "outputs": [
    {
     "data": {
      "text/plain": [
       "{'__name__': 'plotly_dj',\n",
       " '__doc__': None,\n",
       " '__package__': 'plotly_dj',\n",
       " '__loader__': <_frozen_importlib_external.NamespaceLoader at 0x7faeaf1bbc50>,\n",
       " '__spec__': ModuleSpec(name='plotly_dj', loader=<_frozen_importlib_external.NamespaceLoader object at 0x7faeaf1bbc50>, submodule_search_locations=_NamespacePath(['/home/djoroya/anaconda3/envs/plotly-dj/lib/python3.11/site-packages/plotly_dj'])),\n",
       " '__file__': None,\n",
       " '__path__': _NamespacePath(['/home/djoroya/anaconda3/envs/plotly-dj/lib/python3.11/site-packages/plotly_dj'])}"
      ]
     },
     "execution_count": 6,
     "metadata": {},
     "output_type": "execute_result"
    }
   ],
   "source": [
    "plotly_dj.__dict__"
   ]
  },
  {
   "cell_type": "code",
   "execution_count": null,
   "metadata": {},
   "outputs": [],
   "source": [
    "\n",
    "x = np.linspace(-np.pi,np.pi,100)\n",
    "y = np.linspace(-np.pi,np.pi,100)\n",
    "\n",
    "X,Y = np.meshgrid(x,y)\n",
    "\n",
    "Z = np.sin(X)*np.cos(Y)\n",
    "\n",
    "Z_t = np.zeros((100,100,100))\n",
    "\n",
    "for it in range(100):\n",
    "    Z_t[:,:,it] = Z*np.cos(it/10)"
   ]
  },
  {
   "cell_type": "code",
   "execution_count": null,
   "metadata": {},
   "outputs": [
    {
     "ename": "AttributeError",
     "evalue": "module 'plotly_dj' has no attribute 'anisurf'",
     "output_type": "error",
     "traceback": [
      "\u001b[0;31m---------------------------------------------------------------------------\u001b[0m",
      "\u001b[0;31mAttributeError\u001b[0m                            Traceback (most recent call last)",
      "Cell \u001b[0;32mIn[8], line 1\u001b[0m\n\u001b[0;32m----> 1\u001b[0m plotly_dj\u001b[39m.\u001b[39;49manisurf(Z_t)\n",
      "\u001b[0;31mAttributeError\u001b[0m: module 'plotly_dj' has no attribute 'anisurf'"
     ]
    }
   ],
   "source": [
    "plotly_dj.anisurf(Z_t)"
   ]
  },
  {
   "cell_type": "code",
   "execution_count": null,
   "metadata": {},
   "outputs": [],
   "source": []
  }
 ],
 "metadata": {
  "kernelspec": {
   "display_name": "plotly-dj",
   "language": "python",
   "name": "python3"
  },
  "language_info": {
   "codemirror_mode": {
    "name": "ipython",
    "version": 3
   },
   "file_extension": ".py",
   "mimetype": "text/x-python",
   "name": "python",
   "nbconvert_exporter": "python",
   "pygments_lexer": "ipython3",
   "version": "3.11.3"
  },
  "orig_nbformat": 4
 },
 "nbformat": 4,
 "nbformat_minor": 2
}
